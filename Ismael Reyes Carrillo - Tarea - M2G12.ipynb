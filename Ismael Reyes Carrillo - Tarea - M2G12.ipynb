{
 "cells": [
  {
   "cell_type": "markdown",
   "metadata": {},
   "source": [
    "# Tarea\n",
    "## Modelación Supervisada\n",
    "Esta tarea consiste de dos partes. La primera consiste en la primera mitad del curso, y la segunda en la otra.\n",
    "Esta tarea vale 100 puntos y contiene varias secciones donde podrás ganar puntos extras. Justifica tus respuestas y respeta el deadline. Sigue las instrucciones en los comentarios como guía.\n",
    "\n",
    "**Deadline: 20 marzo 23:59 PM**"
   ]
  },
  {
   "cell_type": "markdown",
   "metadata": {},
   "source": [
    "# Parte 1 - Exploración de datos y tus primeros modelos supervisados. [30 puntos]\n",
    "Esta parte de la tarea consiste en refinar tus skills de Data Exploration y Pre-processing. También podrás entrenar tus primeros modelos supervisados. "
   ]
  },
  {
   "cell_type": "code",
   "execution_count": 1,
   "metadata": {},
   "outputs": [],
   "source": [
    "## Importa librerías útiles\n",
    "import pandas as pd\n",
    "import numpy as np\n",
    "import matplotlib.pyplot as plt\n",
    "import datetime\n",
    "import itertools\n",
    "import random\n",
    "\n",
    "\n",
    "# Sklearn\n",
    "from sklearn.linear_model import LinearRegression\n",
    "from sklearn.linear_model import LogisticRegression\n",
    "from sklearn.metrics import mean_squared_error, roc_curve, confusion_matrix, roc_auc_score\n",
    "from sklearn.model_selection import train_test_split, cross_val_score\n",
    "from sklearn import preprocessing"
   ]
  },
  {
   "cell_type": "code",
   "execution_count": 2,
   "metadata": {},
   "outputs": [],
   "source": [
    "# Funciones útiles\n",
    "def grafica_matriz_confusion(cm, classes=[0,1], normalize=False, title='Matriz de confusión\\n', cmap=plt.cm.Reds):\n",
    "    \"\"\" \n",
    "    Función para mostrar la matriz de confusión de un problema de clasificación binario. \n",
    "    El parámetro cm puede ser el objeto resultante de ejecutar la función confusion_matrix() de la librería sklearn.\n",
    "    \n",
    "    Args:\n",
    "        cm         matriz de confusión de sklearn\n",
    "        classes    categorías de la variable target\n",
    "        normalize  normaliza asignando el parámetro True\n",
    "        title      string para definir el título para la gráfica\n",
    "        cmap       mapa de colores\n",
    "    \"\"\"\n",
    "    plt.imshow(cm, interpolation='nearest', cmap=cmap)\n",
    "    plt.title(title)\n",
    "    plt.colorbar()\n",
    "    tick_marks = np.arange(len(classes))\n",
    "    plt.xticks(tick_marks, classes, rotation=0)\n",
    "    plt.yticks(tick_marks, classes)\n",
    "    if normalize:\n",
    "        cm = cm.astype('float') / cm.sum(axis=1)[:, np.newaxis]\n",
    "    thresh = cm.max()\n",
    "    text = [[\"VN =\", \"FN =\"], [\"FP =\", \"VP =\"]]\n",
    "    for i, j in itertools.product(range(cm.shape[0]), range(cm.shape[1])):\n",
    "        plt.text(j, i, \"     {}\".format(round (cm[i, j],2)), horizontalalignment=\"left\",\n",
    "                 color=\"white\" if cm[i, j] > thresh else \"black\")\n",
    "    for i, j in itertools.product(range(cm.shape[0]), range(cm.shape[1])):\n",
    "        plt.text(j, i, text[j][i] , horizontalalignment=\"center\",\n",
    "                 color=\"white\" if cm[i, j] > thresh else \"black\")\n",
    "    plt.tight_layout()\n",
    "    plt.ylabel('Valor real')\n",
    "    plt.xlabel('Predicción')\n",
    "    \n",
    "def grafica_curva_roc(fpr, tpr, title='Curva ROC', note=''):\n",
    "    \"\"\"\n",
    "    Función para graficar la curva ROC\n",
    "    Los parámetros fpr y tpr son el output de ejecutar la función roc_curve de sklearn\n",
    "    \n",
    "    Args:\n",
    "        fpr        Tasa de falsos positivos \n",
    "        tpr        Tasa de verdaderos positivos\n",
    "        title      sting para definir el título de la gráfica\n",
    "        note       Nota para mostrar en la gráfica\n",
    "    \"\"\"\n",
    "    plt.figure(1)\n",
    "    plt.plot([0, 1], [0, 1], 'k--')\n",
    "    plt.plot(fpr, tpr)\n",
    "    plt.xlabel('Tasa de falsos positivos ')\n",
    "    plt.ylabel('Tasa de verdaderos positivos')\n",
    "    plt.title(title)\n",
    "    if note: plt.text(0.6, 0.2, note)\n",
    "    plt.show()"
   ]
  },
  {
   "cell_type": "markdown",
   "metadata": {},
   "source": [
    "## 1) Exploración y Limpieza de datos [10 puntos]\n",
    "Tu tarea aquí es explorar los data sets **happiness2020.csv** y **countries_info.csv** y responder algunas preguntas.\n",
    "\n",
    "El layout de **happiness2020.csv** es:\n",
    "\n",
    "* country: Nombre del país\n",
    "* happiness_score: Score de felicidad\n",
    "* social_support: Ayuda social\n",
    "* healthy_life_expectancy: Expectativa de vida\n",
    "* freedom_of_choices: Libertar de tomar decisiones de vida\n",
    "* generosity: Generosidad\n",
    "* perception_of_corruption: Percepción de la corrupción\n",
    "* world_region: Región en donde se encuentra el país en cuestión\n",
    "\n",
    "\n",
    "El layout de **countries_info.csv**\n",
    "\n",
    "* country_name: Nombre del país\n",
    "* area: Área en metros cuadrados\n",
    "* population: Número de personas\n",
    "* literacy: Porcentaje de alfabetismo\n"
   ]
  },
  {
   "cell_type": "code",
   "execution_count": 3,
   "metadata": {},
   "outputs": [
    {
     "data": {
      "text/html": [
       "<div>\n",
       "<style scoped>\n",
       "    .dataframe tbody tr th:only-of-type {\n",
       "        vertical-align: middle;\n",
       "    }\n",
       "\n",
       "    .dataframe tbody tr th {\n",
       "        vertical-align: top;\n",
       "    }\n",
       "\n",
       "    .dataframe thead th {\n",
       "        text-align: right;\n",
       "    }\n",
       "</style>\n",
       "<table border=\"1\" class=\"dataframe\">\n",
       "  <thead>\n",
       "    <tr style=\"text-align: right;\">\n",
       "      <th></th>\n",
       "      <th>country</th>\n",
       "      <th>happiness_score</th>\n",
       "      <th>social_support</th>\n",
       "      <th>healthy_life_expectancy</th>\n",
       "      <th>freedom_of_choices</th>\n",
       "      <th>generosity</th>\n",
       "      <th>perception_of_corruption</th>\n",
       "      <th>world_region</th>\n",
       "    </tr>\n",
       "  </thead>\n",
       "  <tbody>\n",
       "    <tr>\n",
       "      <th>0</th>\n",
       "      <td>Afghanistan</td>\n",
       "      <td>2.5669</td>\n",
       "      <td>0.470367</td>\n",
       "      <td>52.590000</td>\n",
       "      <td>0.396573</td>\n",
       "      <td>-0.096429</td>\n",
       "      <td>0.933687</td>\n",
       "      <td>South Asia</td>\n",
       "    </tr>\n",
       "    <tr>\n",
       "      <th>1</th>\n",
       "      <td>Albania</td>\n",
       "      <td>4.8827</td>\n",
       "      <td>0.671070</td>\n",
       "      <td>68.708138</td>\n",
       "      <td>0.781994</td>\n",
       "      <td>-0.042309</td>\n",
       "      <td>0.896304</td>\n",
       "      <td>Central and Eastern Europe</td>\n",
       "    </tr>\n",
       "    <tr>\n",
       "      <th>2</th>\n",
       "      <td>Algeria</td>\n",
       "      <td>5.0051</td>\n",
       "      <td>0.803385</td>\n",
       "      <td>65.905174</td>\n",
       "      <td>0.466611</td>\n",
       "      <td>-0.121105</td>\n",
       "      <td>0.735485</td>\n",
       "      <td>Middle East and North Africa</td>\n",
       "    </tr>\n",
       "    <tr>\n",
       "      <th>3</th>\n",
       "      <td>Argentina</td>\n",
       "      <td>5.9747</td>\n",
       "      <td>0.900568</td>\n",
       "      <td>68.803802</td>\n",
       "      <td>0.831132</td>\n",
       "      <td>-0.194914</td>\n",
       "      <td>0.842010</td>\n",
       "      <td>Latin America and Caribbean</td>\n",
       "    </tr>\n",
       "    <tr>\n",
       "      <th>4</th>\n",
       "      <td>Armenia</td>\n",
       "      <td>4.6768</td>\n",
       "      <td>0.757479</td>\n",
       "      <td>66.750656</td>\n",
       "      <td>0.712018</td>\n",
       "      <td>-0.138780</td>\n",
       "      <td>0.773545</td>\n",
       "      <td>Commonwealth of Independent States</td>\n",
       "    </tr>\n",
       "    <tr>\n",
       "      <th>...</th>\n",
       "      <td>...</td>\n",
       "      <td>...</td>\n",
       "      <td>...</td>\n",
       "      <td>...</td>\n",
       "      <td>...</td>\n",
       "      <td>...</td>\n",
       "      <td>...</td>\n",
       "      <td>...</td>\n",
       "    </tr>\n",
       "    <tr>\n",
       "      <th>130</th>\n",
       "      <td>Venezuela</td>\n",
       "      <td>5.0532</td>\n",
       "      <td>0.890408</td>\n",
       "      <td>66.505341</td>\n",
       "      <td>0.623278</td>\n",
       "      <td>-0.169091</td>\n",
       "      <td>0.837038</td>\n",
       "      <td>Latin America and Caribbean</td>\n",
       "    </tr>\n",
       "    <tr>\n",
       "      <th>131</th>\n",
       "      <td>Vietnam</td>\n",
       "      <td>5.3535</td>\n",
       "      <td>0.849987</td>\n",
       "      <td>67.952736</td>\n",
       "      <td>0.939593</td>\n",
       "      <td>-0.094533</td>\n",
       "      <td>0.796421</td>\n",
       "      <td>Southeast Asia</td>\n",
       "    </tr>\n",
       "    <tr>\n",
       "      <th>132</th>\n",
       "      <td>Yemen</td>\n",
       "      <td>3.5274</td>\n",
       "      <td>0.817981</td>\n",
       "      <td>56.727283</td>\n",
       "      <td>0.599920</td>\n",
       "      <td>-0.157735</td>\n",
       "      <td>0.800288</td>\n",
       "      <td>Middle East and North Africa</td>\n",
       "    </tr>\n",
       "    <tr>\n",
       "      <th>133</th>\n",
       "      <td>Zambia</td>\n",
       "      <td>3.7594</td>\n",
       "      <td>0.698824</td>\n",
       "      <td>55.299377</td>\n",
       "      <td>0.806500</td>\n",
       "      <td>0.078037</td>\n",
       "      <td>0.801290</td>\n",
       "      <td>Sub-Saharan Africa</td>\n",
       "    </tr>\n",
       "    <tr>\n",
       "      <th>134</th>\n",
       "      <td>Zimbabwe</td>\n",
       "      <td>3.2992</td>\n",
       "      <td>0.763093</td>\n",
       "      <td>55.617260</td>\n",
       "      <td>0.711458</td>\n",
       "      <td>-0.072064</td>\n",
       "      <td>0.810237</td>\n",
       "      <td>Sub-Saharan Africa</td>\n",
       "    </tr>\n",
       "  </tbody>\n",
       "</table>\n",
       "<p>135 rows × 8 columns</p>\n",
       "</div>"
      ],
      "text/plain": [
       "         country  happiness_score  social_support  healthy_life_expectancy  \\\n",
       "0    Afghanistan           2.5669        0.470367                52.590000   \n",
       "1        Albania           4.8827        0.671070                68.708138   \n",
       "2        Algeria           5.0051        0.803385                65.905174   \n",
       "3      Argentina           5.9747        0.900568                68.803802   \n",
       "4        Armenia           4.6768        0.757479                66.750656   \n",
       "..           ...              ...             ...                      ...   \n",
       "130    Venezuela           5.0532        0.890408                66.505341   \n",
       "131      Vietnam           5.3535        0.849987                67.952736   \n",
       "132        Yemen           3.5274        0.817981                56.727283   \n",
       "133       Zambia           3.7594        0.698824                55.299377   \n",
       "134     Zimbabwe           3.2992        0.763093                55.617260   \n",
       "\n",
       "     freedom_of_choices  generosity  perception_of_corruption  \\\n",
       "0              0.396573   -0.096429                  0.933687   \n",
       "1              0.781994   -0.042309                  0.896304   \n",
       "2              0.466611   -0.121105                  0.735485   \n",
       "3              0.831132   -0.194914                  0.842010   \n",
       "4              0.712018   -0.138780                  0.773545   \n",
       "..                  ...         ...                       ...   \n",
       "130            0.623278   -0.169091                  0.837038   \n",
       "131            0.939593   -0.094533                  0.796421   \n",
       "132            0.599920   -0.157735                  0.800288   \n",
       "133            0.806500    0.078037                  0.801290   \n",
       "134            0.711458   -0.072064                  0.810237   \n",
       "\n",
       "                           world_region  \n",
       "0                            South Asia  \n",
       "1            Central and Eastern Europe  \n",
       "2          Middle East and North Africa  \n",
       "3           Latin America and Caribbean  \n",
       "4    Commonwealth of Independent States  \n",
       "..                                  ...  \n",
       "130         Latin America and Caribbean  \n",
       "131                      Southeast Asia  \n",
       "132        Middle East and North Africa  \n",
       "133                  Sub-Saharan Africa  \n",
       "134                  Sub-Saharan Africa  \n",
       "\n",
       "[135 rows x 8 columns]"
      ]
     },
     "execution_count": 3,
     "metadata": {},
     "output_type": "execute_result"
    }
   ],
   "source": [
    "# Carga el data set happiness2020.csv\n",
    "happi = pd.read_csv('happiness2020.csv')\n",
    "happi"
   ]
  },
  {
   "cell_type": "code",
   "execution_count": 4,
   "metadata": {},
   "outputs": [
    {
     "name": "stdout",
     "output_type": "stream",
     "text": [
      "El df tiene 135 filas y 8 columnas\n"
     ]
    }
   ],
   "source": [
    "# Explora el set de datos (número de variables, observaciones, checa 5 registros y más!)\n",
    "# Número de variables, observaciones,\n",
    "tamano = happi.shape\n",
    "print('El df tiene {} filas y {} columnas'.format(tamano[0], tamano[1]))"
   ]
  },
  {
   "cell_type": "code",
   "execution_count": 5,
   "metadata": {},
   "outputs": [
    {
     "data": {
      "text/plain": [
       "country                      object\n",
       "happiness_score             float64\n",
       "social_support              float64\n",
       "healthy_life_expectancy     float64\n",
       "freedom_of_choices          float64\n",
       "generosity                  float64\n",
       "perception_of_corruption    float64\n",
       "world_region                 object\n",
       "dtype: object"
      ]
     },
     "execution_count": 5,
     "metadata": {},
     "output_type": "execute_result"
    }
   ],
   "source": [
    "# Tipos de datos por columnas\n",
    "happi.dtypes"
   ]
  },
  {
   "cell_type": "code",
   "execution_count": 6,
   "metadata": {},
   "outputs": [
    {
     "data": {
      "text/html": [
       "<div>\n",
       "<style scoped>\n",
       "    .dataframe tbody tr th:only-of-type {\n",
       "        vertical-align: middle;\n",
       "    }\n",
       "\n",
       "    .dataframe tbody tr th {\n",
       "        vertical-align: top;\n",
       "    }\n",
       "\n",
       "    .dataframe thead th {\n",
       "        text-align: right;\n",
       "    }\n",
       "</style>\n",
       "<table border=\"1\" class=\"dataframe\">\n",
       "  <thead>\n",
       "    <tr style=\"text-align: right;\">\n",
       "      <th></th>\n",
       "      <th>happiness_score</th>\n",
       "      <th>social_support</th>\n",
       "      <th>healthy_life_expectancy</th>\n",
       "      <th>freedom_of_choices</th>\n",
       "      <th>generosity</th>\n",
       "      <th>perception_of_corruption</th>\n",
       "    </tr>\n",
       "  </thead>\n",
       "  <tbody>\n",
       "    <tr>\n",
       "      <th>count</th>\n",
       "      <td>135.000000</td>\n",
       "      <td>135.000000</td>\n",
       "      <td>135.000000</td>\n",
       "      <td>135.000000</td>\n",
       "      <td>135.000000</td>\n",
       "      <td>135.000000</td>\n",
       "    </tr>\n",
       "    <tr>\n",
       "      <th>mean</th>\n",
       "      <td>5.525062</td>\n",
       "      <td>0.815165</td>\n",
       "      <td>64.762495</td>\n",
       "      <td>0.790657</td>\n",
       "      <td>-0.022749</td>\n",
       "      <td>0.727447</td>\n",
       "    </tr>\n",
       "    <tr>\n",
       "      <th>std</th>\n",
       "      <td>1.123414</td>\n",
       "      <td>0.116311</td>\n",
       "      <td>6.694776</td>\n",
       "      <td>0.117230</td>\n",
       "      <td>0.146165</td>\n",
       "      <td>0.180406</td>\n",
       "    </tr>\n",
       "    <tr>\n",
       "      <th>min</th>\n",
       "      <td>2.566900</td>\n",
       "      <td>0.468671</td>\n",
       "      <td>48.003624</td>\n",
       "      <td>0.396573</td>\n",
       "      <td>-0.300907</td>\n",
       "      <td>0.109784</td>\n",
       "    </tr>\n",
       "    <tr>\n",
       "      <th>25%</th>\n",
       "      <td>4.749000</td>\n",
       "      <td>0.740405</td>\n",
       "      <td>59.809444</td>\n",
       "      <td>0.720287</td>\n",
       "      <td>-0.130953</td>\n",
       "      <td>0.675699</td>\n",
       "    </tr>\n",
       "    <tr>\n",
       "      <th>50%</th>\n",
       "      <td>5.541500</td>\n",
       "      <td>0.836419</td>\n",
       "      <td>66.480164</td>\n",
       "      <td>0.811602</td>\n",
       "      <td>-0.042309</td>\n",
       "      <td>0.780623</td>\n",
       "    </tr>\n",
       "    <tr>\n",
       "      <th>75%</th>\n",
       "      <td>6.292700</td>\n",
       "      <td>0.910313</td>\n",
       "      <td>69.145870</td>\n",
       "      <td>0.886453</td>\n",
       "      <td>0.083279</td>\n",
       "      <td>0.848558</td>\n",
       "    </tr>\n",
       "    <tr>\n",
       "      <th>max</th>\n",
       "      <td>7.808700</td>\n",
       "      <td>0.974670</td>\n",
       "      <td>76.804581</td>\n",
       "      <td>0.974998</td>\n",
       "      <td>0.519587</td>\n",
       "      <td>0.935585</td>\n",
       "    </tr>\n",
       "  </tbody>\n",
       "</table>\n",
       "</div>"
      ],
      "text/plain": [
       "       happiness_score  social_support  healthy_life_expectancy  \\\n",
       "count       135.000000      135.000000               135.000000   \n",
       "mean          5.525062        0.815165                64.762495   \n",
       "std           1.123414        0.116311                 6.694776   \n",
       "min           2.566900        0.468671                48.003624   \n",
       "25%           4.749000        0.740405                59.809444   \n",
       "50%           5.541500        0.836419                66.480164   \n",
       "75%           6.292700        0.910313                69.145870   \n",
       "max           7.808700        0.974670                76.804581   \n",
       "\n",
       "       freedom_of_choices  generosity  perception_of_corruption  \n",
       "count          135.000000  135.000000                135.000000  \n",
       "mean             0.790657   -0.022749                  0.727447  \n",
       "std              0.117230    0.146165                  0.180406  \n",
       "min              0.396573   -0.300907                  0.109784  \n",
       "25%              0.720287   -0.130953                  0.675699  \n",
       "50%              0.811602   -0.042309                  0.780623  \n",
       "75%              0.886453    0.083279                  0.848558  \n",
       "max              0.974998    0.519587                  0.935585  "
      ]
     },
     "execution_count": 6,
     "metadata": {},
     "output_type": "execute_result"
    }
   ],
   "source": [
    "# Estadisticos descriptivos\n",
    "happi.describe()"
   ]
  },
  {
   "cell_type": "code",
   "execution_count": 7,
   "metadata": {},
   "outputs": [
    {
     "data": {
      "text/html": [
       "<div>\n",
       "<style scoped>\n",
       "    .dataframe tbody tr th:only-of-type {\n",
       "        vertical-align: middle;\n",
       "    }\n",
       "\n",
       "    .dataframe tbody tr th {\n",
       "        vertical-align: top;\n",
       "    }\n",
       "\n",
       "    .dataframe thead th {\n",
       "        text-align: right;\n",
       "    }\n",
       "</style>\n",
       "<table border=\"1\" class=\"dataframe\">\n",
       "  <thead>\n",
       "    <tr style=\"text-align: right;\">\n",
       "      <th></th>\n",
       "      <th>country</th>\n",
       "      <th>happiness_score</th>\n",
       "      <th>social_support</th>\n",
       "      <th>healthy_life_expectancy</th>\n",
       "      <th>freedom_of_choices</th>\n",
       "      <th>generosity</th>\n",
       "      <th>perception_of_corruption</th>\n",
       "      <th>world_region</th>\n",
       "    </tr>\n",
       "  </thead>\n",
       "  <tbody>\n",
       "    <tr>\n",
       "      <th>0</th>\n",
       "      <td>Afghanistan</td>\n",
       "      <td>2.5669</td>\n",
       "      <td>0.470367</td>\n",
       "      <td>52.590000</td>\n",
       "      <td>0.396573</td>\n",
       "      <td>-0.096429</td>\n",
       "      <td>0.933687</td>\n",
       "      <td>South Asia</td>\n",
       "    </tr>\n",
       "    <tr>\n",
       "      <th>1</th>\n",
       "      <td>Albania</td>\n",
       "      <td>4.8827</td>\n",
       "      <td>0.671070</td>\n",
       "      <td>68.708138</td>\n",
       "      <td>0.781994</td>\n",
       "      <td>-0.042309</td>\n",
       "      <td>0.896304</td>\n",
       "      <td>Central and Eastern Europe</td>\n",
       "    </tr>\n",
       "    <tr>\n",
       "      <th>2</th>\n",
       "      <td>Algeria</td>\n",
       "      <td>5.0051</td>\n",
       "      <td>0.803385</td>\n",
       "      <td>65.905174</td>\n",
       "      <td>0.466611</td>\n",
       "      <td>-0.121105</td>\n",
       "      <td>0.735485</td>\n",
       "      <td>Middle East and North Africa</td>\n",
       "    </tr>\n",
       "    <tr>\n",
       "      <th>3</th>\n",
       "      <td>Argentina</td>\n",
       "      <td>5.9747</td>\n",
       "      <td>0.900568</td>\n",
       "      <td>68.803802</td>\n",
       "      <td>0.831132</td>\n",
       "      <td>-0.194914</td>\n",
       "      <td>0.842010</td>\n",
       "      <td>Latin America and Caribbean</td>\n",
       "    </tr>\n",
       "    <tr>\n",
       "      <th>4</th>\n",
       "      <td>Armenia</td>\n",
       "      <td>4.6768</td>\n",
       "      <td>0.757479</td>\n",
       "      <td>66.750656</td>\n",
       "      <td>0.712018</td>\n",
       "      <td>-0.138780</td>\n",
       "      <td>0.773545</td>\n",
       "      <td>Commonwealth of Independent States</td>\n",
       "    </tr>\n",
       "  </tbody>\n",
       "</table>\n",
       "</div>"
      ],
      "text/plain": [
       "       country  happiness_score  social_support  healthy_life_expectancy  \\\n",
       "0  Afghanistan           2.5669        0.470367                52.590000   \n",
       "1      Albania           4.8827        0.671070                68.708138   \n",
       "2      Algeria           5.0051        0.803385                65.905174   \n",
       "3    Argentina           5.9747        0.900568                68.803802   \n",
       "4      Armenia           4.6768        0.757479                66.750656   \n",
       "\n",
       "   freedom_of_choices  generosity  perception_of_corruption  \\\n",
       "0            0.396573   -0.096429                  0.933687   \n",
       "1            0.781994   -0.042309                  0.896304   \n",
       "2            0.466611   -0.121105                  0.735485   \n",
       "3            0.831132   -0.194914                  0.842010   \n",
       "4            0.712018   -0.138780                  0.773545   \n",
       "\n",
       "                         world_region  \n",
       "0                          South Asia  \n",
       "1          Central and Eastern Europe  \n",
       "2        Middle East and North Africa  \n",
       "3         Latin America and Caribbean  \n",
       "4  Commonwealth of Independent States  "
      ]
     },
     "execution_count": 7,
     "metadata": {},
     "output_type": "execute_result"
    }
   ],
   "source": [
    "# 5 registros\n",
    "happi.head(5)"
   ]
  },
  {
   "cell_type": "code",
   "execution_count": 9,
   "metadata": {},
   "outputs": [
    {
     "data": {
      "text/plain": [
       "(0, 8)"
      ]
     },
     "execution_count": 9,
     "metadata": {},
     "output_type": "execute_result"
    }
   ],
   "source": [
    "# Contabilizar los duplicados\n",
    "happi[happi.duplicated()].shape"
   ]
  },
  {
   "cell_type": "markdown",
   "metadata": {},
   "source": [
    "* No existen dupliucados"
   ]
  },
  {
   "cell_type": "code",
   "execution_count": 13,
   "metadata": {},
   "outputs": [
    {
     "name": "stdout",
     "output_type": "stream",
     "text": [
      "country | 0.0 | object\n",
      "happiness_score | 0.0 | float64\n",
      "social_support | 0.0 | float64\n",
      "healthy_life_expectancy | 0.0 | float64\n",
      "freedom_of_choices | 0.0 | float64\n",
      "generosity | 0.0 | float64\n",
      "perception_of_corruption | 0.0 | float64\n",
      "world_region | 0.0 | object\n"
     ]
    }
   ],
   "source": [
    "# Funcion para valores inexistentes\n",
    "\n",
    "def valores_inexistentes(df):\n",
    "    n_records = len(df)\n",
    "    \n",
    "    for columna in df:\n",
    "        print('{} | {} | {}'.format(df[columna].name,\n",
    "                                    len(df[df[columna].isnull()]) / (1.0*n_records),\n",
    "                                    df[columna].dtype))\n",
    "\n",
    "# Valores inexistentes    \n",
    "valores_inexistentes(happi)   "
   ]
  },
  {
   "cell_type": "markdown",
   "metadata": {},
   "source": [
    "* No tenemos valores inexistentes."
   ]
  },
  {
   "cell_type": "code",
   "execution_count": 35,
   "metadata": {},
   "outputs": [
    {
     "data": {
      "text/html": [
       "<div>\n",
       "<style scoped>\n",
       "    .dataframe tbody tr th:only-of-type {\n",
       "        vertical-align: middle;\n",
       "    }\n",
       "\n",
       "    .dataframe tbody tr th {\n",
       "        vertical-align: top;\n",
       "    }\n",
       "\n",
       "    .dataframe thead th {\n",
       "        text-align: right;\n",
       "    }\n",
       "</style>\n",
       "<table border=\"1\" class=\"dataframe\">\n",
       "  <thead>\n",
       "    <tr style=\"text-align: right;\">\n",
       "      <th></th>\n",
       "      <th>country_name</th>\n",
       "      <th>area</th>\n",
       "      <th>population</th>\n",
       "      <th>literacy</th>\n",
       "    </tr>\n",
       "  </thead>\n",
       "  <tbody>\n",
       "    <tr>\n",
       "      <th>0</th>\n",
       "      <td>afghanistan</td>\n",
       "      <td>647500</td>\n",
       "      <td>31056997</td>\n",
       "      <td>36.0</td>\n",
       "    </tr>\n",
       "    <tr>\n",
       "      <th>1</th>\n",
       "      <td>albania</td>\n",
       "      <td>28748</td>\n",
       "      <td>3581655</td>\n",
       "      <td>86.5</td>\n",
       "    </tr>\n",
       "    <tr>\n",
       "      <th>2</th>\n",
       "      <td>algeria</td>\n",
       "      <td>2381740</td>\n",
       "      <td>32930091</td>\n",
       "      <td>70.0</td>\n",
       "    </tr>\n",
       "    <tr>\n",
       "      <th>3</th>\n",
       "      <td>argentina</td>\n",
       "      <td>2766890</td>\n",
       "      <td>39921833</td>\n",
       "      <td>97.1</td>\n",
       "    </tr>\n",
       "    <tr>\n",
       "      <th>4</th>\n",
       "      <td>armenia</td>\n",
       "      <td>29800</td>\n",
       "      <td>2976372</td>\n",
       "      <td>98.6</td>\n",
       "    </tr>\n",
       "    <tr>\n",
       "      <th>...</th>\n",
       "      <td>...</td>\n",
       "      <td>...</td>\n",
       "      <td>...</td>\n",
       "      <td>...</td>\n",
       "    </tr>\n",
       "    <tr>\n",
       "      <th>130</th>\n",
       "      <td>venezuela</td>\n",
       "      <td>912050</td>\n",
       "      <td>25730435</td>\n",
       "      <td>93.4</td>\n",
       "    </tr>\n",
       "    <tr>\n",
       "      <th>131</th>\n",
       "      <td>vietnam</td>\n",
       "      <td>329560</td>\n",
       "      <td>84402966</td>\n",
       "      <td>90.3</td>\n",
       "    </tr>\n",
       "    <tr>\n",
       "      <th>132</th>\n",
       "      <td>yemen</td>\n",
       "      <td>527970</td>\n",
       "      <td>21456188</td>\n",
       "      <td>50.2</td>\n",
       "    </tr>\n",
       "    <tr>\n",
       "      <th>133</th>\n",
       "      <td>zambia</td>\n",
       "      <td>752614</td>\n",
       "      <td>11502010</td>\n",
       "      <td>80.6</td>\n",
       "    </tr>\n",
       "    <tr>\n",
       "      <th>134</th>\n",
       "      <td>zimbabwe</td>\n",
       "      <td>390580</td>\n",
       "      <td>12236805</td>\n",
       "      <td>90.7</td>\n",
       "    </tr>\n",
       "  </tbody>\n",
       "</table>\n",
       "<p>135 rows × 4 columns</p>\n",
       "</div>"
      ],
      "text/plain": [
       "    country_name     area  population  literacy\n",
       "0    afghanistan   647500    31056997      36.0\n",
       "1        albania    28748     3581655      86.5\n",
       "2        algeria  2381740    32930091      70.0\n",
       "3      argentina  2766890    39921833      97.1\n",
       "4        armenia    29800     2976372      98.6\n",
       "..           ...      ...         ...       ...\n",
       "130    venezuela   912050    25730435      93.4\n",
       "131      vietnam   329560    84402966      90.3\n",
       "132        yemen   527970    21456188      50.2\n",
       "133       zambia   752614    11502010      80.6\n",
       "134     zimbabwe   390580    12236805      90.7\n",
       "\n",
       "[135 rows x 4 columns]"
      ]
     },
     "execution_count": 35,
     "metadata": {},
     "output_type": "execute_result"
    }
   ],
   "source": [
    "# Carga el data set countries_info.csv\n",
    "# La variable literacy contiene números con formato europeo. Hint: busca en la documentación de pandas como importar estos datos para ser interpretados como números\n",
    "country = pd.read_csv('countries_info.csv', decimal=',')\n",
    "country"
   ]
  },
  {
   "cell_type": "code",
   "execution_count": 36,
   "metadata": {},
   "outputs": [
    {
     "name": "stdout",
     "output_type": "stream",
     "text": [
      "El df tiene 135 filas y 4 columnas\n"
     ]
    }
   ],
   "source": [
    "# Explora el set de datos (número de variables, observaciones, checa 5 registros y más!)\n",
    "#Número de variables, observaciones,\n",
    "tamano = country.shape\n",
    "print('El df tiene {} filas y {} columnas'.format(tamano[0], tamano[1]))"
   ]
  },
  {
   "cell_type": "code",
   "execution_count": 37,
   "metadata": {},
   "outputs": [
    {
     "data": {
      "text/plain": [
       "country_name     object\n",
       "area              int64\n",
       "population        int64\n",
       "literacy        float64\n",
       "dtype: object"
      ]
     },
     "execution_count": 37,
     "metadata": {},
     "output_type": "execute_result"
    }
   ],
   "source": [
    "#Tipos de datos por columnas\n",
    "country.dtypes"
   ]
  },
  {
   "cell_type": "code",
   "execution_count": 38,
   "metadata": {},
   "outputs": [
    {
     "data": {
      "text/html": [
       "<div>\n",
       "<style scoped>\n",
       "    .dataframe tbody tr th:only-of-type {\n",
       "        vertical-align: middle;\n",
       "    }\n",
       "\n",
       "    .dataframe tbody tr th {\n",
       "        vertical-align: top;\n",
       "    }\n",
       "\n",
       "    .dataframe thead th {\n",
       "        text-align: right;\n",
       "    }\n",
       "</style>\n",
       "<table border=\"1\" class=\"dataframe\">\n",
       "  <thead>\n",
       "    <tr style=\"text-align: right;\">\n",
       "      <th></th>\n",
       "      <th>area</th>\n",
       "      <th>population</th>\n",
       "      <th>literacy</th>\n",
       "    </tr>\n",
       "  </thead>\n",
       "  <tbody>\n",
       "    <tr>\n",
       "      <th>count</th>\n",
       "      <td>1.350000e+02</td>\n",
       "      <td>1.350000e+02</td>\n",
       "      <td>133.000000</td>\n",
       "    </tr>\n",
       "    <tr>\n",
       "      <th>mean</th>\n",
       "      <td>9.007829e+05</td>\n",
       "      <td>4.552204e+07</td>\n",
       "      <td>81.851128</td>\n",
       "    </tr>\n",
       "    <tr>\n",
       "      <th>std</th>\n",
       "      <td>2.244994e+06</td>\n",
       "      <td>1.505270e+08</td>\n",
       "      <td>20.514483</td>\n",
       "    </tr>\n",
       "    <tr>\n",
       "      <th>min</th>\n",
       "      <td>3.160000e+02</td>\n",
       "      <td>2.993880e+05</td>\n",
       "      <td>17.600000</td>\n",
       "    </tr>\n",
       "    <tr>\n",
       "      <th>25%</th>\n",
       "      <td>6.540500e+04</td>\n",
       "      <td>4.636146e+06</td>\n",
       "      <td>70.000000</td>\n",
       "    </tr>\n",
       "    <tr>\n",
       "      <th>50%</th>\n",
       "      <td>2.375000e+05</td>\n",
       "      <td>1.023546e+07</td>\n",
       "      <td>90.900000</td>\n",
       "    </tr>\n",
       "    <tr>\n",
       "      <th>75%</th>\n",
       "      <td>7.000570e+05</td>\n",
       "      <td>2.967980e+07</td>\n",
       "      <td>98.400000</td>\n",
       "    </tr>\n",
       "    <tr>\n",
       "      <th>max</th>\n",
       "      <td>1.707520e+07</td>\n",
       "      <td>1.313974e+09</td>\n",
       "      <td>100.000000</td>\n",
       "    </tr>\n",
       "  </tbody>\n",
       "</table>\n",
       "</div>"
      ],
      "text/plain": [
       "               area    population    literacy\n",
       "count  1.350000e+02  1.350000e+02  133.000000\n",
       "mean   9.007829e+05  4.552204e+07   81.851128\n",
       "std    2.244994e+06  1.505270e+08   20.514483\n",
       "min    3.160000e+02  2.993880e+05   17.600000\n",
       "25%    6.540500e+04  4.636146e+06   70.000000\n",
       "50%    2.375000e+05  1.023546e+07   90.900000\n",
       "75%    7.000570e+05  2.967980e+07   98.400000\n",
       "max    1.707520e+07  1.313974e+09  100.000000"
      ]
     },
     "execution_count": 38,
     "metadata": {},
     "output_type": "execute_result"
    }
   ],
   "source": [
    "#Estadisticos descriptivos\n",
    "country.describe()"
   ]
  },
  {
   "cell_type": "code",
   "execution_count": 39,
   "metadata": {},
   "outputs": [
    {
     "data": {
      "text/html": [
       "<div>\n",
       "<style scoped>\n",
       "    .dataframe tbody tr th:only-of-type {\n",
       "        vertical-align: middle;\n",
       "    }\n",
       "\n",
       "    .dataframe tbody tr th {\n",
       "        vertical-align: top;\n",
       "    }\n",
       "\n",
       "    .dataframe thead th {\n",
       "        text-align: right;\n",
       "    }\n",
       "</style>\n",
       "<table border=\"1\" class=\"dataframe\">\n",
       "  <thead>\n",
       "    <tr style=\"text-align: right;\">\n",
       "      <th></th>\n",
       "      <th>country_name</th>\n",
       "      <th>area</th>\n",
       "      <th>population</th>\n",
       "      <th>literacy</th>\n",
       "    </tr>\n",
       "  </thead>\n",
       "  <tbody>\n",
       "    <tr>\n",
       "      <th>0</th>\n",
       "      <td>afghanistan</td>\n",
       "      <td>647500</td>\n",
       "      <td>31056997</td>\n",
       "      <td>36.0</td>\n",
       "    </tr>\n",
       "    <tr>\n",
       "      <th>1</th>\n",
       "      <td>albania</td>\n",
       "      <td>28748</td>\n",
       "      <td>3581655</td>\n",
       "      <td>86.5</td>\n",
       "    </tr>\n",
       "    <tr>\n",
       "      <th>2</th>\n",
       "      <td>algeria</td>\n",
       "      <td>2381740</td>\n",
       "      <td>32930091</td>\n",
       "      <td>70.0</td>\n",
       "    </tr>\n",
       "    <tr>\n",
       "      <th>3</th>\n",
       "      <td>argentina</td>\n",
       "      <td>2766890</td>\n",
       "      <td>39921833</td>\n",
       "      <td>97.1</td>\n",
       "    </tr>\n",
       "    <tr>\n",
       "      <th>4</th>\n",
       "      <td>armenia</td>\n",
       "      <td>29800</td>\n",
       "      <td>2976372</td>\n",
       "      <td>98.6</td>\n",
       "    </tr>\n",
       "  </tbody>\n",
       "</table>\n",
       "</div>"
      ],
      "text/plain": [
       "  country_name     area  population  literacy\n",
       "0  afghanistan   647500    31056997      36.0\n",
       "1      albania    28748     3581655      86.5\n",
       "2      algeria  2381740    32930091      70.0\n",
       "3    argentina  2766890    39921833      97.1\n",
       "4      armenia    29800     2976372      98.6"
      ]
     },
     "execution_count": 39,
     "metadata": {},
     "output_type": "execute_result"
    }
   ],
   "source": [
    "#5 registros\n",
    "country.head(5)"
   ]
  },
  {
   "cell_type": "code",
   "execution_count": 40,
   "metadata": {},
   "outputs": [
    {
     "data": {
      "text/plain": [
       "(0, 4)"
      ]
     },
     "execution_count": 40,
     "metadata": {},
     "output_type": "execute_result"
    }
   ],
   "source": [
    "# Contabilizar los duplicados\n",
    "country[country.duplicated()].shape\n"
   ]
  },
  {
   "cell_type": "markdown",
   "metadata": {},
   "source": [
    "* No existen dulicados"
   ]
  },
  {
   "cell_type": "code",
   "execution_count": 41,
   "metadata": {},
   "outputs": [
    {
     "name": "stdout",
     "output_type": "stream",
     "text": [
      "country_name | 0.0 | object\n",
      "area | 0.0 | int64\n",
      "population | 0.0 | int64\n",
      "literacy | 0.014814814814814815 | float64\n"
     ]
    }
   ],
   "source": [
    "# Valores inexistentes\n",
    "valores_inexistentes(country)"
   ]
  },
  {
   "cell_type": "markdown",
   "metadata": {},
   "source": [
    "* Existen valores inexistentes en la columna 'literacy', estos son muy pocos."
   ]
  },
  {
   "cell_type": "code",
   "execution_count": 43,
   "metadata": {},
   "outputs": [
    {
     "data": {
      "text/html": [
       "<div>\n",
       "<style scoped>\n",
       "    .dataframe tbody tr th:only-of-type {\n",
       "        vertical-align: middle;\n",
       "    }\n",
       "\n",
       "    .dataframe tbody tr th {\n",
       "        vertical-align: top;\n",
       "    }\n",
       "\n",
       "    .dataframe thead th {\n",
       "        text-align: right;\n",
       "    }\n",
       "</style>\n",
       "<table border=\"1\" class=\"dataframe\">\n",
       "  <thead>\n",
       "    <tr style=\"text-align: right;\">\n",
       "      <th></th>\n",
       "      <th>country</th>\n",
       "      <th>area</th>\n",
       "      <th>population</th>\n",
       "      <th>literacy</th>\n",
       "    </tr>\n",
       "  </thead>\n",
       "  <tbody>\n",
       "    <tr>\n",
       "      <th>0</th>\n",
       "      <td>Afghanistan</td>\n",
       "      <td>647500</td>\n",
       "      <td>31056997</td>\n",
       "      <td>36.0</td>\n",
       "    </tr>\n",
       "    <tr>\n",
       "      <th>1</th>\n",
       "      <td>Albania</td>\n",
       "      <td>28748</td>\n",
       "      <td>3581655</td>\n",
       "      <td>86.5</td>\n",
       "    </tr>\n",
       "    <tr>\n",
       "      <th>2</th>\n",
       "      <td>Algeria</td>\n",
       "      <td>2381740</td>\n",
       "      <td>32930091</td>\n",
       "      <td>70.0</td>\n",
       "    </tr>\n",
       "    <tr>\n",
       "      <th>3</th>\n",
       "      <td>Argentina</td>\n",
       "      <td>2766890</td>\n",
       "      <td>39921833</td>\n",
       "      <td>97.1</td>\n",
       "    </tr>\n",
       "    <tr>\n",
       "      <th>4</th>\n",
       "      <td>Armenia</td>\n",
       "      <td>29800</td>\n",
       "      <td>2976372</td>\n",
       "      <td>98.6</td>\n",
       "    </tr>\n",
       "    <tr>\n",
       "      <th>...</th>\n",
       "      <td>...</td>\n",
       "      <td>...</td>\n",
       "      <td>...</td>\n",
       "      <td>...</td>\n",
       "    </tr>\n",
       "    <tr>\n",
       "      <th>130</th>\n",
       "      <td>Venezuela</td>\n",
       "      <td>912050</td>\n",
       "      <td>25730435</td>\n",
       "      <td>93.4</td>\n",
       "    </tr>\n",
       "    <tr>\n",
       "      <th>131</th>\n",
       "      <td>Vietnam</td>\n",
       "      <td>329560</td>\n",
       "      <td>84402966</td>\n",
       "      <td>90.3</td>\n",
       "    </tr>\n",
       "    <tr>\n",
       "      <th>132</th>\n",
       "      <td>Yemen</td>\n",
       "      <td>527970</td>\n",
       "      <td>21456188</td>\n",
       "      <td>50.2</td>\n",
       "    </tr>\n",
       "    <tr>\n",
       "      <th>133</th>\n",
       "      <td>Zambia</td>\n",
       "      <td>752614</td>\n",
       "      <td>11502010</td>\n",
       "      <td>80.6</td>\n",
       "    </tr>\n",
       "    <tr>\n",
       "      <th>134</th>\n",
       "      <td>Zimbabwe</td>\n",
       "      <td>390580</td>\n",
       "      <td>12236805</td>\n",
       "      <td>90.7</td>\n",
       "    </tr>\n",
       "  </tbody>\n",
       "</table>\n",
       "<p>135 rows × 4 columns</p>\n",
       "</div>"
      ],
      "text/plain": [
       "         country     area  population  literacy\n",
       "0    Afghanistan   647500    31056997      36.0\n",
       "1        Albania    28748     3581655      86.5\n",
       "2        Algeria  2381740    32930091      70.0\n",
       "3      Argentina  2766890    39921833      97.1\n",
       "4        Armenia    29800     2976372      98.6\n",
       "..           ...      ...         ...       ...\n",
       "130    Venezuela   912050    25730435      93.4\n",
       "131      Vietnam   329560    84402966      90.3\n",
       "132        Yemen   527970    21456188      50.2\n",
       "133       Zambia   752614    11502010      80.6\n",
       "134     Zimbabwe   390580    12236805      90.7\n",
       "\n",
       "[135 rows x 4 columns]"
      ]
     },
     "execution_count": 43,
     "metadata": {},
     "output_type": "execute_result"
    }
   ],
   "source": [
    "# Une los datos utilizando la función merge de pandas\n",
    "# Ojo: ¿Cuál es la llave de cruce en cada set de datos? ¿Ves algo que pueda afectar a la hora de cruzar los datos con esta llave? Explica por que y toma la decisión correcta para transformar una de las variables de cruce\n",
    "country = country.rename(columns={'country_name': 'country'})\n",
    "country['country'] = country['country'].str.capitalize()\n",
    "country"
   ]
  },
  {
   "cell_type": "markdown",
   "metadata": {},
   "source": [
    "* La llave de cruze es la columna country, el problema es que al no tener el mismo nombre y el mismo formatos no sera posible realizar el merge.\n",
    "* Se renombro la columna 'country_name' a 'country' del dataset country, posteriormente se utiizo 'capitalize' para tener el mismo formato de la columna 'country del dataset happi"
   ]
  },
  {
   "cell_type": "code",
   "execution_count": 45,
   "metadata": {},
   "outputs": [
    {
     "data": {
      "text/html": [
       "<div>\n",
       "<style scoped>\n",
       "    .dataframe tbody tr th:only-of-type {\n",
       "        vertical-align: middle;\n",
       "    }\n",
       "\n",
       "    .dataframe tbody tr th {\n",
       "        vertical-align: top;\n",
       "    }\n",
       "\n",
       "    .dataframe thead th {\n",
       "        text-align: right;\n",
       "    }\n",
       "</style>\n",
       "<table border=\"1\" class=\"dataframe\">\n",
       "  <thead>\n",
       "    <tr style=\"text-align: right;\">\n",
       "      <th></th>\n",
       "      <th>country</th>\n",
       "      <th>happiness_score</th>\n",
       "      <th>social_support</th>\n",
       "      <th>healthy_life_expectancy</th>\n",
       "      <th>freedom_of_choices</th>\n",
       "      <th>generosity</th>\n",
       "      <th>perception_of_corruption</th>\n",
       "      <th>world_region</th>\n",
       "      <th>area</th>\n",
       "      <th>population</th>\n",
       "      <th>literacy</th>\n",
       "    </tr>\n",
       "  </thead>\n",
       "  <tbody>\n",
       "    <tr>\n",
       "      <th>0</th>\n",
       "      <td>Afghanistan</td>\n",
       "      <td>2.5669</td>\n",
       "      <td>0.470367</td>\n",
       "      <td>52.590000</td>\n",
       "      <td>0.396573</td>\n",
       "      <td>-0.096429</td>\n",
       "      <td>0.933687</td>\n",
       "      <td>South Asia</td>\n",
       "      <td>647500</td>\n",
       "      <td>31056997</td>\n",
       "      <td>36.0</td>\n",
       "    </tr>\n",
       "    <tr>\n",
       "      <th>1</th>\n",
       "      <td>Albania</td>\n",
       "      <td>4.8827</td>\n",
       "      <td>0.671070</td>\n",
       "      <td>68.708138</td>\n",
       "      <td>0.781994</td>\n",
       "      <td>-0.042309</td>\n",
       "      <td>0.896304</td>\n",
       "      <td>Central and Eastern Europe</td>\n",
       "      <td>28748</td>\n",
       "      <td>3581655</td>\n",
       "      <td>86.5</td>\n",
       "    </tr>\n",
       "    <tr>\n",
       "      <th>2</th>\n",
       "      <td>Algeria</td>\n",
       "      <td>5.0051</td>\n",
       "      <td>0.803385</td>\n",
       "      <td>65.905174</td>\n",
       "      <td>0.466611</td>\n",
       "      <td>-0.121105</td>\n",
       "      <td>0.735485</td>\n",
       "      <td>Middle East and North Africa</td>\n",
       "      <td>2381740</td>\n",
       "      <td>32930091</td>\n",
       "      <td>70.0</td>\n",
       "    </tr>\n",
       "    <tr>\n",
       "      <th>3</th>\n",
       "      <td>Argentina</td>\n",
       "      <td>5.9747</td>\n",
       "      <td>0.900568</td>\n",
       "      <td>68.803802</td>\n",
       "      <td>0.831132</td>\n",
       "      <td>-0.194914</td>\n",
       "      <td>0.842010</td>\n",
       "      <td>Latin America and Caribbean</td>\n",
       "      <td>2766890</td>\n",
       "      <td>39921833</td>\n",
       "      <td>97.1</td>\n",
       "    </tr>\n",
       "    <tr>\n",
       "      <th>4</th>\n",
       "      <td>Armenia</td>\n",
       "      <td>4.6768</td>\n",
       "      <td>0.757479</td>\n",
       "      <td>66.750656</td>\n",
       "      <td>0.712018</td>\n",
       "      <td>-0.138780</td>\n",
       "      <td>0.773545</td>\n",
       "      <td>Commonwealth of Independent States</td>\n",
       "      <td>29800</td>\n",
       "      <td>2976372</td>\n",
       "      <td>98.6</td>\n",
       "    </tr>\n",
       "    <tr>\n",
       "      <th>...</th>\n",
       "      <td>...</td>\n",
       "      <td>...</td>\n",
       "      <td>...</td>\n",
       "      <td>...</td>\n",
       "      <td>...</td>\n",
       "      <td>...</td>\n",
       "      <td>...</td>\n",
       "      <td>...</td>\n",
       "      <td>...</td>\n",
       "      <td>...</td>\n",
       "      <td>...</td>\n",
       "    </tr>\n",
       "    <tr>\n",
       "      <th>117</th>\n",
       "      <td>Venezuela</td>\n",
       "      <td>5.0532</td>\n",
       "      <td>0.890408</td>\n",
       "      <td>66.505341</td>\n",
       "      <td>0.623278</td>\n",
       "      <td>-0.169091</td>\n",
       "      <td>0.837038</td>\n",
       "      <td>Latin America and Caribbean</td>\n",
       "      <td>912050</td>\n",
       "      <td>25730435</td>\n",
       "      <td>93.4</td>\n",
       "    </tr>\n",
       "    <tr>\n",
       "      <th>118</th>\n",
       "      <td>Vietnam</td>\n",
       "      <td>5.3535</td>\n",
       "      <td>0.849987</td>\n",
       "      <td>67.952736</td>\n",
       "      <td>0.939593</td>\n",
       "      <td>-0.094533</td>\n",
       "      <td>0.796421</td>\n",
       "      <td>Southeast Asia</td>\n",
       "      <td>329560</td>\n",
       "      <td>84402966</td>\n",
       "      <td>90.3</td>\n",
       "    </tr>\n",
       "    <tr>\n",
       "      <th>119</th>\n",
       "      <td>Yemen</td>\n",
       "      <td>3.5274</td>\n",
       "      <td>0.817981</td>\n",
       "      <td>56.727283</td>\n",
       "      <td>0.599920</td>\n",
       "      <td>-0.157735</td>\n",
       "      <td>0.800288</td>\n",
       "      <td>Middle East and North Africa</td>\n",
       "      <td>527970</td>\n",
       "      <td>21456188</td>\n",
       "      <td>50.2</td>\n",
       "    </tr>\n",
       "    <tr>\n",
       "      <th>120</th>\n",
       "      <td>Zambia</td>\n",
       "      <td>3.7594</td>\n",
       "      <td>0.698824</td>\n",
       "      <td>55.299377</td>\n",
       "      <td>0.806500</td>\n",
       "      <td>0.078037</td>\n",
       "      <td>0.801290</td>\n",
       "      <td>Sub-Saharan Africa</td>\n",
       "      <td>752614</td>\n",
       "      <td>11502010</td>\n",
       "      <td>80.6</td>\n",
       "    </tr>\n",
       "    <tr>\n",
       "      <th>121</th>\n",
       "      <td>Zimbabwe</td>\n",
       "      <td>3.2992</td>\n",
       "      <td>0.763093</td>\n",
       "      <td>55.617260</td>\n",
       "      <td>0.711458</td>\n",
       "      <td>-0.072064</td>\n",
       "      <td>0.810237</td>\n",
       "      <td>Sub-Saharan Africa</td>\n",
       "      <td>390580</td>\n",
       "      <td>12236805</td>\n",
       "      <td>90.7</td>\n",
       "    </tr>\n",
       "  </tbody>\n",
       "</table>\n",
       "<p>122 rows × 11 columns</p>\n",
       "</div>"
      ],
      "text/plain": [
       "         country  happiness_score  social_support  healthy_life_expectancy  \\\n",
       "0    Afghanistan           2.5669        0.470367                52.590000   \n",
       "1        Albania           4.8827        0.671070                68.708138   \n",
       "2        Algeria           5.0051        0.803385                65.905174   \n",
       "3      Argentina           5.9747        0.900568                68.803802   \n",
       "4        Armenia           4.6768        0.757479                66.750656   \n",
       "..           ...              ...             ...                      ...   \n",
       "117    Venezuela           5.0532        0.890408                66.505341   \n",
       "118      Vietnam           5.3535        0.849987                67.952736   \n",
       "119        Yemen           3.5274        0.817981                56.727283   \n",
       "120       Zambia           3.7594        0.698824                55.299377   \n",
       "121     Zimbabwe           3.2992        0.763093                55.617260   \n",
       "\n",
       "     freedom_of_choices  generosity  perception_of_corruption  \\\n",
       "0              0.396573   -0.096429                  0.933687   \n",
       "1              0.781994   -0.042309                  0.896304   \n",
       "2              0.466611   -0.121105                  0.735485   \n",
       "3              0.831132   -0.194914                  0.842010   \n",
       "4              0.712018   -0.138780                  0.773545   \n",
       "..                  ...         ...                       ...   \n",
       "117            0.623278   -0.169091                  0.837038   \n",
       "118            0.939593   -0.094533                  0.796421   \n",
       "119            0.599920   -0.157735                  0.800288   \n",
       "120            0.806500    0.078037                  0.801290   \n",
       "121            0.711458   -0.072064                  0.810237   \n",
       "\n",
       "                           world_region     area  population  literacy  \n",
       "0                            South Asia   647500    31056997      36.0  \n",
       "1            Central and Eastern Europe    28748     3581655      86.5  \n",
       "2          Middle East and North Africa  2381740    32930091      70.0  \n",
       "3           Latin America and Caribbean  2766890    39921833      97.1  \n",
       "4    Commonwealth of Independent States    29800     2976372      98.6  \n",
       "..                                  ...      ...         ...       ...  \n",
       "117         Latin America and Caribbean   912050    25730435      93.4  \n",
       "118                      Southeast Asia   329560    84402966      90.3  \n",
       "119        Middle East and North Africa   527970    21456188      50.2  \n",
       "120                  Sub-Saharan Africa   752614    11502010      80.6  \n",
       "121                  Sub-Saharan Africa   390580    12236805      90.7  \n",
       "\n",
       "[122 rows x 11 columns]"
      ]
     },
     "execution_count": 45,
     "metadata": {},
     "output_type": "execute_result"
    }
   ],
   "source": [
    "dftotal = happi.merge(country, how='inner', on='country')\n",
    "dftotal"
   ]
  },
  {
   "cell_type": "code",
   "execution_count": null,
   "metadata": {},
   "outputs": [],
   "source": [
    "dftotal.dtypes"
   ]
  },
  {
   "cell_type": "code",
   "execution_count": null,
   "metadata": {},
   "outputs": [],
   "source": [
    "# Explora el set de datos que contiene los dos sets anteriores (número de variables, observaciones, checa 5 registros y más!)\n"
   ]
  },
  {
   "cell_type": "code",
   "execution_count": null,
   "metadata": {},
   "outputs": [],
   "source": [
    "# Determina el top 10 de países más felices\n"
   ]
  },
  {
   "cell_type": "code",
   "execution_count": null,
   "metadata": {},
   "outputs": [],
   "source": [
    "# Determina el top 10 de regiones con países más felices (¿Cómo puedes medir la felicidad por región?)\n"
   ]
  },
  {
   "cell_type": "code",
   "execution_count": null,
   "metadata": {},
   "outputs": [],
   "source": [
    "# ¿Cuáles son los países de la región con países más felices? Muestra el nombre y el score de felicidad\n"
   ]
  },
  {
   "cell_type": "code",
   "execution_count": null,
   "metadata": {},
   "outputs": [],
   "source": [
    "# ¿Cuál es el top 10 de países con mayor porcentaje de alfabetismo?\n"
   ]
  },
  {
   "cell_type": "code",
   "execution_count": null,
   "metadata": {},
   "outputs": [],
   "source": [
    "# ¿Cuáles son las regiones del mundo que tienen los países con mayor tasa de alfabetismo?\n"
   ]
  },
  {
   "cell_type": "code",
   "execution_count": null,
   "metadata": {},
   "outputs": [],
   "source": [
    "# Muestra los países de la región con mayor porcentaje de alfabetismo\n"
   ]
  },
  {
   "cell_type": "code",
   "execution_count": null,
   "metadata": {},
   "outputs": [],
   "source": [
    "# ¿Cuál es el top 10 de países de países con menor porcentaje de alfabetismo?\n"
   ]
  },
  {
   "cell_type": "code",
   "execution_count": null,
   "metadata": {},
   "outputs": [],
   "source": [
    "# ¿Cuáles son las regiones del mundo que tienen los países con menor tasa de alfabetismo?\n"
   ]
  },
  {
   "cell_type": "code",
   "execution_count": null,
   "metadata": {},
   "outputs": [],
   "source": [
    "# Muestra los países de la región con menor porcentaje de alfabetismo\n"
   ]
  },
  {
   "cell_type": "code",
   "execution_count": null,
   "metadata": {},
   "outputs": [],
   "source": [
    "# Determina el top 10 de países con mayor cantidad de personas\n"
   ]
  },
  {
   "cell_type": "code",
   "execution_count": null,
   "metadata": {},
   "outputs": [],
   "source": [
    "# ¿Cuáles son las regiones más pobladas del mundo?\n"
   ]
  },
  {
   "cell_type": "code",
   "execution_count": null,
   "metadata": {},
   "outputs": [],
   "source": [
    "# ¿Cuáles son los países en las regiones menos pobladas del mundo?\n"
   ]
  },
  {
   "cell_type": "code",
   "execution_count": null,
   "metadata": {},
   "outputs": [],
   "source": [
    "# ¿Cuál es el score de felicidad de los tres países más poblados del mundo?\n"
   ]
  },
  {
   "cell_type": "code",
   "execution_count": null,
   "metadata": {},
   "outputs": [],
   "source": [
    "# ¿Cuál es el score de felicidad de los tres países menos poblados del mundo?\n"
   ]
  },
  {
   "cell_type": "code",
   "execution_count": null,
   "metadata": {},
   "outputs": [],
   "source": [
    "# Gráfica y explora las variables happiness_score, literacy y population\n",
    "# Hint: Utiliza los métodos vistos en clase para variables númericas"
   ]
  },
  {
   "cell_type": "code",
   "execution_count": null,
   "metadata": {},
   "outputs": [],
   "source": [
    "# ¿Existe una relación (¿de qué tipo?) entre la variable happiness_score y healthy_life_expectancy?\n",
    "# Hint: Gráfica la relación que existe entre las variables\n"
   ]
  },
  {
   "cell_type": "markdown",
   "metadata": {},
   "source": [
    "¿Podrías entrenar un modelo de regresión lineal para predecir la variable healthy_life_expectancy con base en la variable independiente happiness_score? ¿Sería un buen modelo para predecir la expectativa de vida? Elabora tu respuesta\n"
   ]
  },
  {
   "cell_type": "code",
   "execution_count": null,
   "metadata": {},
   "outputs": [],
   "source": [
    "# Define la variable target (healthy_life_expectancy)\n",
    "\n",
    "\n",
    "# Define el conjunto de variables independientes\n",
    "\n",
    "\n",
    "# Utiliza la función de sklearn para partir los datos en set de entrenamiento y validación\n",
    "# 70% train, 30% test, utiliza una semilla para poder replicar resultados (busca en la documentación de sklearn como hacer esto)\n"
   ]
  },
  {
   "cell_type": "code",
   "execution_count": null,
   "metadata": {},
   "outputs": [],
   "source": [
    "# Entrena un modelo de regresión lineal y determina el score R² y el score de error (MSE)\n"
   ]
  },
  {
   "cell_type": "markdown",
   "metadata": {},
   "source": [
    "## 2) Regresión logísitica utilizando el método de gradiente descendente aplicado a una función de costo de error cuadrático medio [20 puntos]\n",
    "En esta parte se requiere llevar a cabo una tarea de clasificación. Para ello vamos a utilizar una regresión logística. Primero que nada expliquemos el modelo anterior.\n",
    "\n",
    "**Regresión logística**\n",
    "Es un modelo que sirve para clasificar observaciones. En pocas palabras (y para esta tarea) la regresión logística es una transformación del modelo de regresión lineal sin término regularizador. Es decir, una regresión logística transforma las predicciones de una regresión lineal a un valor de probabilidad. \n",
    "\n",
    "$y = \\textbf{X}^T\\textbf{W}$\n",
    "\n",
    "$y\\_pred = \\sigma(y)$\n",
    "\n",
    "En esta parte de la tarea deberás utilizar el método de gradiente descendente para estimar los parámetros de una regresión lineal y después transformar las predicciones en probabilidades utilizando la función sigmoide. \n",
    "\n",
    "Vamos a utilizar un data set con información de los pasajeros del barco Titanic (**titanic.xls**). A continuación puedes ver el layout:\n",
    "\n",
    "* name: Nombre del pasajero\n",
    "* sex: Sexo del pasajero\n",
    "* age: edad en años\n",
    "* sibsp: # hijos / esposos abordo del Titanic\n",
    "* parch: # padres / niños abordo del Titanic\n",
    "* ticket: número de ticket de pasajero\n",
    "* fare: precio del ticket\n",
    "* cabin: Número de cabina en el barco\n",
    "* embarked: Puerto de embarcación\n"
   ]
  },
  {
   "cell_type": "code",
   "execution_count": null,
   "metadata": {},
   "outputs": [],
   "source": [
    "# Carga los datos\n"
   ]
  },
  {
   "cell_type": "code",
   "execution_count": null,
   "metadata": {},
   "outputs": [],
   "source": [
    "# Explora el data set\n",
    "# Aquí ocupa todo lo que ya sabes para analizar un set de datos. Si el análisis que vas a realizar es muy bueno, podríamos considerar tener puntos extras\n"
   ]
  },
  {
   "cell_type": "code",
   "execution_count": null,
   "metadata": {},
   "outputs": [],
   "source": [
    "# ¿Hace sentido utilizar todas las columnas para entrenar un modelo de clasificación? Elimina variables que podrían meter ruido y quedate solo con las que consideres cruciales\n"
   ]
  },
  {
   "cell_type": "code",
   "execution_count": null,
   "metadata": {},
   "outputs": [],
   "source": [
    "# Preprocesa los datos\n",
    "# Hint: crea variables dummies para la variable \"sex\"\n"
   ]
  },
  {
   "cell_type": "code",
   "execution_count": null,
   "metadata": {},
   "outputs": [],
   "source": [
    "# Mostrar el nombre de las variables dummy creadas\n"
   ]
  },
  {
   "cell_type": "code",
   "execution_count": null,
   "metadata": {},
   "outputs": [],
   "source": [
    "# Define la variable target (survived)\n",
    "\n",
    "\n",
    "# Define el conjunto de variables independientes\n"
   ]
  },
  {
   "cell_type": "code",
   "execution_count": null,
   "metadata": {},
   "outputs": [],
   "source": [
    "# Determina cuántas observaciones tienen un valor missing\n"
   ]
  },
  {
   "cell_type": "code",
   "execution_count": null,
   "metadata": {},
   "outputs": [],
   "source": [
    "# Cuál o cuáles variables tienen valores missing\n"
   ]
  },
  {
   "cell_type": "code",
   "execution_count": null,
   "metadata": {},
   "outputs": [],
   "source": [
    "# Describe las variables para ver qué método podría servirnos para imputar valores nulos\n"
   ]
  },
  {
   "cell_type": "code",
   "execution_count": null,
   "metadata": {},
   "outputs": [],
   "source": [
    "# Imputa los valores missing de las variables con valores missing\n",
    "\n",
    "\n",
    "# Comprueba que ya no existan registros con valores nulos\n"
   ]
  },
  {
   "cell_type": "code",
   "execution_count": null,
   "metadata": {},
   "outputs": [],
   "source": [
    "# Revisa los rangos de las distintas variables independientes\n"
   ]
  },
  {
   "cell_type": "code",
   "execution_count": null,
   "metadata": {},
   "outputs": [],
   "source": [
    "# Normaliza los valores de las variables independientes\n"
   ]
  },
  {
   "cell_type": "code",
   "execution_count": null,
   "metadata": {},
   "outputs": [],
   "source": [
    "# Revisa los rangos de las distintas variables independientes\n"
   ]
  },
  {
   "cell_type": "code",
   "execution_count": null,
   "metadata": {},
   "outputs": [],
   "source": [
    "# Utiliza la función de sklearn para partir los datos en set de entrenamiento y validación\n",
    "# 70% train, 30% test, utiliza una semilla para poder replicar resultados (busca en la documentación de sklearn como hacer esto)\n",
    "\n",
    "\n",
    "# Define las Matrices de variables independientes con intercepto (agregar una columna con puros 1s)\n"
   ]
  },
  {
   "cell_type": "code",
   "execution_count": null,
   "metadata": {},
   "outputs": [],
   "source": [
    "# Define todas las funciones que necesitas para llevar a cabo el proceso de gradiente descendente con una función de costo de error cuadrático medio\n",
    "# Determina los parámetros W tal óptimos. Para ello encuentra los hyper parámetros óptimos para la tasa de aprendizaje gamma y el número máximo de iteraciones\n",
    "# Recuerda agregar una columna de 1s a la matrix X, con ello estarás optimizando todos los parámetros, incluido el intercepto o w0\n"
   ]
  },
  {
   "cell_type": "markdown",
   "metadata": {},
   "source": [
    "Ahora vamos a transformar los resultados del proceso anterior en probabilidades para el modelo de clasificación. Para ello debes expresar la variable target como una combinación lineal de los parámetros óptimos obtenidos con el proceso anterior y transformarlos utilizando la función sigmoide\n",
    "\n",
    "$\\sigma(t) = \\displaystyle \\frac{1}{1+exp(-t)}$"
   ]
  },
  {
   "cell_type": "code",
   "execution_count": null,
   "metadata": {},
   "outputs": [],
   "source": [
    "# Define la función sigmoide\n"
   ]
  },
  {
   "cell_type": "code",
   "execution_count": null,
   "metadata": {},
   "outputs": [],
   "source": [
    "# Determina y_pred\n",
    "# Hint: Recuerda que en una regresión lineal, la variable target se puede escribir como combinación lineal de los parámetros óptimos y la matrix X (y = XW^T)\n",
    "# Utiliza X_b (X con una fila de 1s para representar el intercepto)\n",
    "\n",
    "\n",
    "# Transforma el resultado anterior utilizando la función sigmoide definida anteriomente\n"
   ]
  },
  {
   "cell_type": "code",
   "execution_count": null,
   "metadata": {},
   "outputs": [],
   "source": [
    "# Asignar una etiqueta positiva o negativa si la probabilidad sobrepasa un threshold de probabilidad determinado\n",
    "# Prueba con threshold de probabilidad = 60%\n"
   ]
  },
  {
   "cell_type": "markdown",
   "metadata": {},
   "source": [
    "**[Stretch: Por 5 puntos extras]** Determinar cuál es el valor óptimo para el threshold de probabilidad"
   ]
  },
  {
   "cell_type": "code",
   "execution_count": null,
   "metadata": {},
   "outputs": [],
   "source": [
    "# Ya sea con 60% como threshold de probabilidad u otro valor optimizado, evalúa el modelo creado\n",
    "# Distribución de predicciones\n"
   ]
  },
  {
   "cell_type": "code",
   "execution_count": null,
   "metadata": {},
   "outputs": [],
   "source": [
    "# Muestra la matriz de confusión\n"
   ]
  },
  {
   "cell_type": "code",
   "execution_count": null,
   "metadata": {},
   "outputs": [],
   "source": [
    "# Cuántos errores cometimos?\n"
   ]
  },
  {
   "cell_type": "code",
   "execution_count": null,
   "metadata": {},
   "outputs": [],
   "source": [
    "# Calcula la efectividad\n"
   ]
  },
  {
   "cell_type": "code",
   "execution_count": null,
   "metadata": {},
   "outputs": [],
   "source": [
    "# Calcula el recall y la precisión de la predicción\n"
   ]
  },
  {
   "cell_type": "code",
   "execution_count": null,
   "metadata": {},
   "outputs": [],
   "source": [
    "# Utiliza la función de sklearn llamada roc_curve para determinar la lista de tasa de falsos y verdaderos positivos\n"
   ]
  },
  {
   "cell_type": "markdown",
   "metadata": {},
   "source": [
    "# Parte 2 - Entrena un modelo de clasificación de sentimientos. [70 puntos]\n",
    "Esta parte de la tarea consiste en entrenar un modelo de clasificación de sentimientos. Lee las instrucciones con cuidado y justifica tus resultados."
   ]
  },
  {
   "cell_type": "markdown",
   "metadata": {},
   "source": [
    "## Descripción\n",
    "En esta tarea vamos a ayudar a un científic@ de datos a predecir el sentimiento de reseñas que los usuarios de la aplicación móvil de la Institución Financiera para la que trabaja dan acerca de ella. Para ello, tiene un set de datos (**data_app_movil.csv**) con el siguiente layout:\n",
    "\n",
    "**Layout Tabla de datos*:**\n",
    "* at: Fecha en la que la reseña fue hecha\n",
    "* content: Texto de la reseña\n",
    "* repliedAt: Fecha en la que se respondió a la reseña hecha por el usuario\n",
    "* replyContent: Texto de la respuesta a la reseña hecha por el usuario\n",
    "* reviewCreatedVersion: Versión de la aplicación móvil que el usuario tenía al dar la reseña de la misma\n",
    "* reviewId: ID del usuario que escribió la reseña de la aplicación móvil\n",
    "* thumbsUpCount: Número de pulgares hacía arriba (votos de otros usuarios que apoyan una reseña)\n",
    "* sentiment: Sentimiento de la reseña escrita por un usuario\n",
    "\n",
    "**Objetivo:**\n",
    "En esta tarea deberás ayudar al científic@ de datos a entrenar un modelo supervisado para clasificar los sentimientos de las reseñas de los usuarios de la aplicación móvil.\n",
    "\n",
    "*Los datos con los que fue hecho este set son públicos"
   ]
  },
  {
   "cell_type": "markdown",
   "metadata": {},
   "source": [
    "## Importa librerías importantes"
   ]
  },
  {
   "cell_type": "code",
   "execution_count": null,
   "metadata": {},
   "outputs": [],
   "source": [
    "# Import useful libraries\n",
    "import matplotlib.pyplot as plt\n",
    "import seaborn as sns\n",
    "import statistics as sts\n",
    "from scipy import stats\n",
    "import re\n",
    "import pandas as pd\n",
    "import numpy as np\n",
    "from numpy import zeros\n",
    "from numpy import asarray\n",
    "from numpy import array\n",
    "import itertools\n",
    "import collections\n",
    "import csv\n",
    "\n",
    "# Tunning plots\n",
    "import matplotlib.lines as mlines\n",
    "from matplotlib.ticker import MaxNLocator\n",
    "from wordcloud import WordCloud, ImageColorGenerator\n",
    "%matplotlib inline\n",
    "pd.set_option('display.max_columns', 100)\n",
    "SEED = 15432\n",
    "\n",
    "# scikit-learn\n",
    "from sklearn.linear_model            import LinearRegression, LogisticRegression, Ridge, RidgeCV\n",
    "from sklearn.svm                     import SVC\n",
    "from sklearn.ensemble                import RandomForestClassifier\n",
    "from sklearn.ensemble                import GradientBoostingClassifier\n",
    "from sklearn.preprocessing           import LabelEncoder,OneHotEncoder\n",
    "from sklearn.model_selection         import StratifiedKFold\n",
    "from sklearn.model_selection         import validation_curve\n",
    "from sklearn.model_selection         import train_test_split\n",
    "from sklearn.metrics                 import confusion_matrix\n",
    "from sklearn.metrics                 import accuracy_score\n",
    "from sklearn.model_selection         import train_test_split\n",
    "from sklearn.model_selection         import cross_val_predict\n",
    "from sklearn.model_selection         import cross_val_score\n",
    "from sklearn                         import metrics\n",
    "from sklearn.feature_extraction.text import TfidfTransformer\n",
    "from sklearn.feature_extraction.text import TfidfVectorizer\n",
    "from sklearn.feature_extraction.text import CountVectorizer\n",
    "from sklearn.decomposition           import TruncatedSVD\n",
    "from sklearn.naive_bayes             import GaussianNB\n",
    "from sklearn.metrics         import roc_curve, roc_auc_score\n",
    "\n",
    "# Ignore some warnings \n",
    "import warnings\n",
    "warnings.filterwarnings('ignore')\n",
    "\n",
    "# Gensim\n",
    "import gensim\n",
    "import gensim.corpora as corpora\n",
    "from gensim.utils  import simple_preprocess\n",
    "from gensim.models import CoherenceModel\n",
    "\n",
    "# NLTK\n",
    "import nltk\n",
    "from nltk.tokenize import word_tokenize\n",
    "from nltk.tokenize import WordPunctTokenizer\n",
    "from nltk.stem     import WordNetLemmatizer \n",
    "from nltk.corpus   import stopwords\n",
    "\n",
    "# Read/Write xlsx files\n",
    "from openpyxl import workbook \n",
    "from openpyxl import load_workbook\n",
    "import os"
   ]
  },
  {
   "cell_type": "markdown",
   "metadata": {},
   "source": [
    "## Importa los datos\n",
    "**Ojo:** importa solo las variables que necesites para la tarea (layout). Intenta nombrar al dataframe **data** "
   ]
  },
  {
   "cell_type": "markdown",
   "metadata": {},
   "source": [
    "## Exploración Básica de Datos [10 puntos]\n",
    "En esta sección tienes que explorar los datos, haz un análisis exhaustivo para responder las siguientes preguntas:\n",
    "\n",
    "* ¿Cuántos registros y columnas tiene el set de datos?\n",
    "* ¿Qué porcentaje de valores nulos presenta cada variable? \n",
    "* ¿Hay reseñas duplicadas? ¿Cuáles son?\n",
    "* ¿Cuál es la variable target?\n",
    "* ¿Cuál es la distribución de la variable target?\n",
    "* ¿Cuál es la reseña con más apoyo por parte de otros usuarios (thumbsUpCount)?\n",
    "* ¿Qué porcentaje de reseñas son respondidas por la Institución financiera?\n",
    "* ¿Cuál es el rango de fechas en las que fueron escritas las reseñas de este set de datos?\n",
    "* ¿Qué otras cosas básicas crees que vale la pena analizar de este set de datos?"
   ]
  },
  {
   "cell_type": "markdown",
   "metadata": {},
   "source": [
    "## Procesamiento de Texto [5 puntos]\n",
    "Para que un modelo de predicción pueda recibir como input un corpus de texto, primero se tiene que limpiar, y luego convertr a una matriz numérica tal que conserve la semántica del texto. \n",
    "En esta sección haremos la limpieza de la variable de texto llamada 'content'. Existen varias formas de hacerlo, enlistamos las técnicas que usaremos:\n",
    "* Eliminar caracteres especiales, signos de puntiación, números\n",
    "* Eliminar acentos\n",
    "* Convertir a minúsculas todas las palabras en el texto\n",
    "* Eliminar stop words ¿Qué son las stop words? Investiga en internet y escribe un parráfo de ello\n",
    "* Eliminar palabras que tengan menos de 3 caracteres"
   ]
  },
  {
   "cell_type": "code",
   "execution_count": null,
   "metadata": {},
   "outputs": [],
   "source": [
    "# Define funciones para limpiar texto\n",
    "# Importa algunas librerías útiles para las tareas de limpieza de texto\n",
    "import nltk\n",
    "import spacy\n",
    "from spacy.lang.es import Spanish\n",
    "import re\n",
    "import string\n",
    "from unidecode import unidecode\n",
    "from nltk.corpus import stopwords\n",
    "from nltk.tokenize import word_tokenize\n",
    "import itertools\n",
    "import collections\n",
    "import csv\n",
    "\n",
    "# Si no has descargado el archivo de stop words en español, al ejecutar este pesado de código te saldrá un error. \n",
    "# Investiga en internet cómo descargar la lista de stopwords en español\n",
    "nlp = Spanish()\n",
    "\n",
    "# Stop words en español\n",
    "stop_words = list(set(stopwords.words('spanish')))\n",
    "\n",
    "# ¿Con el conocimiento que tienes de stop words, cuáles crees que nos falten de agregar? Yo te agrego unas, pero piensa en otras\n",
    "stop_words.append('aplicacion')\n",
    "stop_words.append('banco')\n",
    "\n",
    "# Imprime la longitud de la lista de stopwords en español\n",
    "print(\"The stop words list has a length of {} words\".format(len(stop_words)))"
   ]
  },
  {
   "cell_type": "code",
   "execution_count": null,
   "metadata": {},
   "outputs": [],
   "source": [
    "# Define funciones para limpiar texto\n",
    "def remove_accents(a):\n",
    "    \"\"\" Función para eliminar acentos\n",
    "      \n",
    "        Args:  \n",
    "        a pandas series string\n",
    "    \"\"\"\n",
    "    return unidecode(a)\n",
    "\n",
    "def clean_re(txt):\n",
    "    \"\"\" Función para eliminar puntuación, convertir a minusculas, entre otras cosas\n",
    "      \n",
    "        Args:  \n",
    "        txt pandas series string\n",
    "    \"\"\"\n",
    "    # Convierte a minusculas\n",
    "    txt = pd.Series(txt).str.lower()\n",
    "    \n",
    "    # Elimina caracteres especiales de tipo \\t\\n\\r\\f\\v\n",
    "    txt = pd.Series(txt).apply(lambda x: re.sub(r'[^\\w\\s]',' ',x))\n",
    "    \n",
    "    # Elimina palabras con menos de tres letras\n",
    "    txt = txt.apply(lambda x: ' '.join([w for w in x.split() if len(w)>3]))\n",
    "    \n",
    "    # Elimina números\n",
    "    txt = pd.Series(txt).apply(lambda x: re.sub(r'\\b\\d+(?:\\.\\d+)?\\s+', ' ', x))\n",
    "    \n",
    "    return txt\n",
    "\n",
    "def remove_stopwords(txt):\n",
    "    \"\"\" Función para eliminar stop words\n",
    "      \n",
    "        Args:  \n",
    "        txt pandas series string\n",
    "    \"\"\"\n",
    "    txt = pd.Series(txt).apply(lambda x: ' '.join([item for item in x.split() if item not in stop_words]))\n",
    "    return txt"
   ]
  },
  {
   "cell_type": "code",
   "execution_count": null,
   "metadata": {},
   "outputs": [],
   "source": [
    "# Aplica las funciones a la variable 'content'\n",
    "# Esta parte del código tarda un poco\n",
    "data['content_clean'] = data['content'].apply(clean_re)\n",
    "data['content_clean'] = data['content_clean'].apply(remove_accents)\n",
    "data['content_clean'] = data['content_clean'].apply(remove_stopwords)"
   ]
  },
  {
   "cell_type": "markdown",
   "metadata": {},
   "source": [
    "**Revisa** la variable 'content_clean'\n",
    "* ¿Cómo se diferencia de la variable 'content'?\n",
    "* ¿De qué otras maneras podrías limpiar la variable 'content' para que el texto aporte el más valor posible al modelo de predicción?"
   ]
  },
  {
   "cell_type": "code",
   "execution_count": null,
   "metadata": {},
   "outputs": [],
   "source": [
    "# Muestra los primeros 5 registros del data set con las variables 'content' y 'content_clean'\n"
   ]
  },
  {
   "cell_type": "code",
   "execution_count": null,
   "metadata": {},
   "outputs": [],
   "source": [
    "# Investiga en internet qué es tokenizar una oración y entiende que hace la siguiente línea de código\n",
    "data['list_of_words'] = list(data['content_clean'].apply(lambda x : word_tokenize(x))) "
   ]
  },
  {
   "cell_type": "code",
   "execution_count": null,
   "metadata": {},
   "outputs": [],
   "source": [
    "# Muestra los primeros 5 registros del data set con las variables 'content', 'content_clean', y 'list_of_words'\n"
   ]
  },
  {
   "cell_type": "markdown",
   "metadata": {},
   "source": [
    "## Exploración avanzada [10 puntos]\n",
    "En esta parte analizamos de manera más avanzada la variable de texto. Investiga como dar respuesta  a las siguientes preguntas:\n",
    "* Cuál es la distribución de la longitud de reseñas. Hint: Calcula la longitud de cada reseña en el set de datos. Saca estadísticos principales (media, mediana, desviación estándar, moda). Gráfica la distribución \n",
    "* ¿Cuál es el top 10 de palabras más usadas para las reseñas no negativas?\n",
    "* ¿Cuál es el top 10 de palabras más usadas para las reseñas negativas?\n",
    "* Investiga como hacer una nube de palabras y crea una para las palabras más usadas en todo el set de datos "
   ]
  },
  {
   "cell_type": "markdown",
   "metadata": {},
   "source": [
    "## Procesamiento de datos [5 puntos]\n",
    "En esta parte tendrás que preparar los datos para poder entrenar modelos de aprendizaje de máquina. Para ello, tendrás que hacer lo siguiente:\n",
    "* Separa el set de datos en set de variables independientes (X) y en variable target (y)\n",
    "* Divide el set de datos en train (70%) y test (30%). Utiliza la semilla SEED=12345 para poder reproducir tus resultados"
   ]
  },
  {
   "cell_type": "markdown",
   "metadata": {},
   "source": [
    "## Word Embeddings [5 puntos]\n",
    "Convierte los datos de texto en una matriz numérica que los modelos de aprendizaje de máquina puedan utilizar. Para ello, te apoyaré con unas líneas de código pero te corresponde a ti lo siguiente:\n",
    "* Investigar qué es un word embedding y por qué son importantes para entrenar un modelo de clasificación cuando se utilizan datos de texto\n",
    "* Investigar acerca de los word embeddings TF-IDF y Bag of Words (BoW)\n",
    "\n",
    "Yo te voy a enseñar cómo convertir los datos, pero te corresponde entender cómo funcionan y cómo manipularlos. "
   ]
  },
  {
   "cell_type": "code",
   "execution_count": null,
   "metadata": {},
   "outputs": [],
   "source": [
    "# Define función útil\n",
    "def text_transformer(X_train, X_test, vectorizer):\n",
    "    \"\"\" Función para crear word embeddings (TF-IDF y BoW)\n",
    "      \n",
    "        Args:  \n",
    "        X_train pandas dataframe\n",
    "        X_test  pandas dataframe\n",
    "        varToVector string que contiene nombre de variable de texto\n",
    "        vectorizer objeto para crear un word embedding de tipo TF-IDF y BoW\n",
    "    \"\"\"\n",
    "    # Entrena método para convertir de texto a matrix numérica\n",
    "    vectorizer_ = vectorizer\n",
    "    vectorizer_.fit(X_train)\n",
    "\n",
    "    X_train = vectorizer_.transform(X_train)\n",
    "    X_test = vectorizer_.transform(X_test)\n",
    "    return X_train, X_test"
   ]
  },
  {
   "cell_type": "markdown",
   "metadata": {},
   "source": [
    "**TF-IDF**\n",
    "\n",
    "Investiga qué parámetros puede tomar e intenta optimizarlos. X_train_TFID y X_test_TFID serán los sets de datos que tendrás que utilizar para entrenar modelos en la sección siguiente"
   ]
  },
  {
   "cell_type": "code",
   "execution_count": null,
   "metadata": {},
   "outputs": [],
   "source": [
    "# Crea un word embedding de tipo TF-IDF con el objeto de Sklearn llamado TfidfVectorizer\n",
    "# TfidfVectorizer(Por optimizar)\n",
    "X_train_TFID, X_test_TFID = text_transformer(X_train, X_test, TfidfVectorizer(#Optimiza algunos parámetros))\n",
    "\n",
    "# Convierte el resultado anterior en una matriz poco densa que pueda ser usada para entrenar un modelo\n",
    "X_train_TFID = pd.DataFrame(X_train_TFID.toarray())\n",
    "X_test_TFID = pd.DataFrame(X_test_TFID.toarray())"
   ]
  },
  {
   "cell_type": "markdown",
   "metadata": {},
   "source": [
    "**Bag of Words (BoW)**\n",
    "\n",
    "Investiga qué parámetros puede tomar e intenta optimizarlos. X_train_BoW y X_test_BoW serán los sets de datos que tendrás que utilizar para entrenar modelos en la sección siguiente"
   ]
  },
  {
   "cell_type": "markdown",
   "metadata": {},
   "source": [
    "**[Stretch: 5 puntos extras] Word embeddings más complejos**\n",
    "\n",
    "Investiga técnicas más complejas para crear word embeddings y utilizalas en la sección de entrenamiento de modelos. ¿Crees que ayuden a mejorar el performance de los mismos?"
   ]
  },
  {
   "cell_type": "markdown",
   "metadata": {},
   "source": [
    "## Entrena modelos de aprendizaje de máquina [25 puntos]\n",
    "Entrena al menos tres tipos de modelos de clasificación. Todo modelo extra podrá ser considerado para puntos extras. Tienes la libertad de entrenar los modelos de la manera que desees, entre mejor sea la metodología de entrenamiento y evaluación de resultados, más puntos obtendrás. "
   ]
  },
  {
   "cell_type": "markdown",
   "metadata": {},
   "source": [
    "**[Stretch: 10 puntos extras]** Para todos los modelos que entrenes, determinar cuál es el valor óptimo para el threshold de probabilidad"
   ]
  },
  {
   "cell_type": "markdown",
   "metadata": {},
   "source": [
    "## Selecciona el mejor modelo [10 puntos]\n",
    "En esta parte debes seleccionar el mejor modelo, ya sea usando bootstrap o de la manera que creas adeacuada. Justifica bien tus decisiones"
   ]
  }
 ],
 "metadata": {
  "kernelspec": {
   "display_name": "Python 3 (ipykernel)",
   "language": "python",
   "name": "python3"
  },
  "language_info": {
   "codemirror_mode": {
    "name": "ipython",
    "version": 3
   },
   "file_extension": ".py",
   "mimetype": "text/x-python",
   "name": "python",
   "nbconvert_exporter": "python",
   "pygments_lexer": "ipython3",
   "version": "3.8.8"
  }
 },
 "nbformat": 4,
 "nbformat_minor": 4
}
